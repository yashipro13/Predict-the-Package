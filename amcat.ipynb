{
  "nbformat": 4,
  "nbformat_minor": 0,
  "metadata": {
    "colab": {
      "name": "amcat.ipynb",
      "version": "0.3.2",
      "provenance": [],
      "collapsed_sections": []
    },
    "kernelspec": {
      "name": "python3",
      "display_name": "Python 3"
    }
  },
  "cells": [
    {
      "cell_type": "code",
      "metadata": {
        "id": "hS8JuUm5xVrm",
        "colab_type": "code",
        "colab": {}
      },
      "source": [
        "import pandas as pd"
      ],
      "execution_count": 0,
      "outputs": []
    },
    {
      "cell_type": "code",
      "metadata": {
        "id": "qPeXiToxxdwA",
        "colab_type": "code",
        "colab": {}
      },
      "source": [
        "employment_stats = pd.read_csv (\"amcatData.csv\")"
      ],
      "execution_count": 0,
      "outputs": []
    },
    {
      "cell_type": "code",
      "metadata": {
        "id": "eZ9jPoHCDNYG",
        "colab_type": "code",
        "outputId": "1f9d964c-1f76-4ddc-fafa-1c47e03e65d8",
        "colab": {
          "base_uri": "https://localhost:8080/",
          "height": 199
        }
      },
      "source": [
        "employment_stats.columns"
      ],
      "execution_count": 0,
      "outputs": [
        {
          "output_type": "execute_result",
          "data": {
            "text/plain": [
              "Index(['ID', 'Salary', 'DOJ', 'DOL', 'Designation', 'JobCity', 'Gender', 'DOB',\n",
              "       '10percentage', '10board', '12graduation', '12percentage', '12board',\n",
              "       'CollegeID', 'CollegeTier', 'Degree', 'Specialization', 'collegeGPA',\n",
              "       'CollegeCityID', 'CollegeCityTier', 'CollegeState', 'GraduationYear',\n",
              "       'English', 'Logical', 'Quant', 'Domain', 'ComputerProgramming',\n",
              "       'ElectronicsAndSemicon', 'ComputerScience', 'MechanicalEngg',\n",
              "       'ElectricalEngg', 'TelecomEngg', 'CivilEngg', 'conscientiousness',\n",
              "       'agreeableness', 'extraversion', 'nueroticism',\n",
              "       'openess_to_experience'],\n",
              "      dtype='object')"
            ]
          },
          "metadata": {
            "tags": []
          },
          "execution_count": 51
        }
      ]
    },
    {
      "cell_type": "code",
      "metadata": {
        "id": "jJtMJoRuneg7",
        "colab_type": "code",
        "outputId": "5b9b4c84-eb80-43ae-ebce-b33ab90dff6f",
        "colab": {
          "base_uri": "https://localhost:8080/",
          "height": 477
        }
      },
      "source": [
        "employment_stats.head()"
      ],
      "execution_count": 0,
      "outputs": [
        {
          "output_type": "execute_result",
          "data": {
            "text/html": [
              "<div>\n",
              "<style scoped>\n",
              "    .dataframe tbody tr th:only-of-type {\n",
              "        vertical-align: middle;\n",
              "    }\n",
              "\n",
              "    .dataframe tbody tr th {\n",
              "        vertical-align: top;\n",
              "    }\n",
              "\n",
              "    .dataframe thead th {\n",
              "        text-align: right;\n",
              "    }\n",
              "</style>\n",
              "<table border=\"1\" class=\"dataframe\">\n",
              "  <thead>\n",
              "    <tr style=\"text-align: right;\">\n",
              "      <th></th>\n",
              "      <th>ID</th>\n",
              "      <th>Salary</th>\n",
              "      <th>DOJ</th>\n",
              "      <th>DOL</th>\n",
              "      <th>Designation</th>\n",
              "      <th>JobCity</th>\n",
              "      <th>Gender</th>\n",
              "      <th>DOB</th>\n",
              "      <th>10percentage</th>\n",
              "      <th>10board</th>\n",
              "      <th>12graduation</th>\n",
              "      <th>12percentage</th>\n",
              "      <th>12board</th>\n",
              "      <th>CollegeID</th>\n",
              "      <th>CollegeTier</th>\n",
              "      <th>Degree</th>\n",
              "      <th>Specialization</th>\n",
              "      <th>collegeGPA</th>\n",
              "      <th>CollegeCityID</th>\n",
              "      <th>CollegeCityTier</th>\n",
              "      <th>CollegeState</th>\n",
              "      <th>GraduationYear</th>\n",
              "      <th>English</th>\n",
              "      <th>Logical</th>\n",
              "      <th>Quant</th>\n",
              "      <th>Domain</th>\n",
              "      <th>ComputerProgramming</th>\n",
              "      <th>ElectronicsAndSemicon</th>\n",
              "      <th>ComputerScience</th>\n",
              "      <th>MechanicalEngg</th>\n",
              "      <th>ElectricalEngg</th>\n",
              "      <th>TelecomEngg</th>\n",
              "      <th>CivilEngg</th>\n",
              "      <th>conscientiousness</th>\n",
              "      <th>agreeableness</th>\n",
              "      <th>extraversion</th>\n",
              "      <th>nueroticism</th>\n",
              "      <th>openess_to_experience</th>\n",
              "    </tr>\n",
              "  </thead>\n",
              "  <tbody>\n",
              "    <tr>\n",
              "      <th>0</th>\n",
              "      <td>203097</td>\n",
              "      <td>420000</td>\n",
              "      <td>01-06-2012 00:00</td>\n",
              "      <td>present</td>\n",
              "      <td>senior quality engineer</td>\n",
              "      <td>Bangalore</td>\n",
              "      <td>f</td>\n",
              "      <td>19-02-1990 00:00</td>\n",
              "      <td>84.3</td>\n",
              "      <td>board ofsecondary education,ap</td>\n",
              "      <td>2007</td>\n",
              "      <td>95.8</td>\n",
              "      <td>board of intermediate education,ap</td>\n",
              "      <td>1141</td>\n",
              "      <td>2</td>\n",
              "      <td>B.Tech/B.E.</td>\n",
              "      <td>computer engineering</td>\n",
              "      <td>78.00</td>\n",
              "      <td>1141</td>\n",
              "      <td>0</td>\n",
              "      <td>Andhra Pradesh</td>\n",
              "      <td>2011</td>\n",
              "      <td>515</td>\n",
              "      <td>585</td>\n",
              "      <td>525</td>\n",
              "      <td>0.635979</td>\n",
              "      <td>445</td>\n",
              "      <td>-1</td>\n",
              "      <td>-1</td>\n",
              "      <td>-1</td>\n",
              "      <td>-1</td>\n",
              "      <td>-1</td>\n",
              "      <td>-1</td>\n",
              "      <td>0.9737</td>\n",
              "      <td>0.8128</td>\n",
              "      <td>0.5269</td>\n",
              "      <td>1.35490</td>\n",
              "      <td>-0.4455</td>\n",
              "    </tr>\n",
              "    <tr>\n",
              "      <th>1</th>\n",
              "      <td>579905</td>\n",
              "      <td>500000</td>\n",
              "      <td>01-09-2013 00:00</td>\n",
              "      <td>present</td>\n",
              "      <td>assistant manager</td>\n",
              "      <td>Indore</td>\n",
              "      <td>m</td>\n",
              "      <td>04-10-1989 00:00</td>\n",
              "      <td>85.4</td>\n",
              "      <td>cbse</td>\n",
              "      <td>2007</td>\n",
              "      <td>85.0</td>\n",
              "      <td>cbse</td>\n",
              "      <td>5807</td>\n",
              "      <td>2</td>\n",
              "      <td>B.Tech/B.E.</td>\n",
              "      <td>electronics and communication engineering</td>\n",
              "      <td>70.06</td>\n",
              "      <td>5807</td>\n",
              "      <td>0</td>\n",
              "      <td>Madhya Pradesh</td>\n",
              "      <td>2012</td>\n",
              "      <td>695</td>\n",
              "      <td>610</td>\n",
              "      <td>780</td>\n",
              "      <td>0.960603</td>\n",
              "      <td>-1</td>\n",
              "      <td>466</td>\n",
              "      <td>-1</td>\n",
              "      <td>-1</td>\n",
              "      <td>-1</td>\n",
              "      <td>-1</td>\n",
              "      <td>-1</td>\n",
              "      <td>-0.7335</td>\n",
              "      <td>0.3789</td>\n",
              "      <td>1.2396</td>\n",
              "      <td>-0.10760</td>\n",
              "      <td>0.8637</td>\n",
              "    </tr>\n",
              "    <tr>\n",
              "      <th>2</th>\n",
              "      <td>810601</td>\n",
              "      <td>325000</td>\n",
              "      <td>01-06-2014 00:00</td>\n",
              "      <td>present</td>\n",
              "      <td>systems engineer</td>\n",
              "      <td>Chennai</td>\n",
              "      <td>f</td>\n",
              "      <td>03-08-1992 00:00</td>\n",
              "      <td>85.0</td>\n",
              "      <td>cbse</td>\n",
              "      <td>2010</td>\n",
              "      <td>68.2</td>\n",
              "      <td>cbse</td>\n",
              "      <td>64</td>\n",
              "      <td>2</td>\n",
              "      <td>B.Tech/B.E.</td>\n",
              "      <td>information technology</td>\n",
              "      <td>70.00</td>\n",
              "      <td>64</td>\n",
              "      <td>0</td>\n",
              "      <td>Uttar Pradesh</td>\n",
              "      <td>2014</td>\n",
              "      <td>615</td>\n",
              "      <td>545</td>\n",
              "      <td>370</td>\n",
              "      <td>0.450877</td>\n",
              "      <td>395</td>\n",
              "      <td>-1</td>\n",
              "      <td>-1</td>\n",
              "      <td>-1</td>\n",
              "      <td>-1</td>\n",
              "      <td>-1</td>\n",
              "      <td>-1</td>\n",
              "      <td>0.2718</td>\n",
              "      <td>1.7109</td>\n",
              "      <td>0.1637</td>\n",
              "      <td>-0.86820</td>\n",
              "      <td>0.6721</td>\n",
              "    </tr>\n",
              "    <tr>\n",
              "      <th>3</th>\n",
              "      <td>267447</td>\n",
              "      <td>1100000</td>\n",
              "      <td>01-07-2011 00:00</td>\n",
              "      <td>present</td>\n",
              "      <td>senior software engineer</td>\n",
              "      <td>Gurgaon</td>\n",
              "      <td>m</td>\n",
              "      <td>05-12-1989 00:00</td>\n",
              "      <td>85.6</td>\n",
              "      <td>cbse</td>\n",
              "      <td>2007</td>\n",
              "      <td>83.6</td>\n",
              "      <td>cbse</td>\n",
              "      <td>6920</td>\n",
              "      <td>1</td>\n",
              "      <td>B.Tech/B.E.</td>\n",
              "      <td>computer engineering</td>\n",
              "      <td>74.64</td>\n",
              "      <td>6920</td>\n",
              "      <td>1</td>\n",
              "      <td>Delhi</td>\n",
              "      <td>2011</td>\n",
              "      <td>635</td>\n",
              "      <td>585</td>\n",
              "      <td>625</td>\n",
              "      <td>0.974396</td>\n",
              "      <td>615</td>\n",
              "      <td>-1</td>\n",
              "      <td>-1</td>\n",
              "      <td>-1</td>\n",
              "      <td>-1</td>\n",
              "      <td>-1</td>\n",
              "      <td>-1</td>\n",
              "      <td>0.0464</td>\n",
              "      <td>0.3448</td>\n",
              "      <td>-0.3440</td>\n",
              "      <td>-0.40780</td>\n",
              "      <td>-0.9194</td>\n",
              "    </tr>\n",
              "    <tr>\n",
              "      <th>4</th>\n",
              "      <td>343523</td>\n",
              "      <td>200000</td>\n",
              "      <td>01-03-2014 00:00</td>\n",
              "      <td>01-03-2015 00:00</td>\n",
              "      <td>get</td>\n",
              "      <td>Manesar</td>\n",
              "      <td>m</td>\n",
              "      <td>27-02-1991 00:00</td>\n",
              "      <td>78.0</td>\n",
              "      <td>cbse</td>\n",
              "      <td>2008</td>\n",
              "      <td>76.8</td>\n",
              "      <td>cbse</td>\n",
              "      <td>11368</td>\n",
              "      <td>2</td>\n",
              "      <td>B.Tech/B.E.</td>\n",
              "      <td>electronics and communication engineering</td>\n",
              "      <td>73.90</td>\n",
              "      <td>11368</td>\n",
              "      <td>0</td>\n",
              "      <td>Uttar Pradesh</td>\n",
              "      <td>2012</td>\n",
              "      <td>545</td>\n",
              "      <td>625</td>\n",
              "      <td>465</td>\n",
              "      <td>0.124502</td>\n",
              "      <td>-1</td>\n",
              "      <td>233</td>\n",
              "      <td>-1</td>\n",
              "      <td>-1</td>\n",
              "      <td>-1</td>\n",
              "      <td>-1</td>\n",
              "      <td>-1</td>\n",
              "      <td>-0.8810</td>\n",
              "      <td>-0.2793</td>\n",
              "      <td>-1.0697</td>\n",
              "      <td>0.09163</td>\n",
              "      <td>-0.1295</td>\n",
              "    </tr>\n",
              "  </tbody>\n",
              "</table>\n",
              "</div>"
            ],
            "text/plain": [
              "       ID   Salary  ... nueroticism openess_to_experience\n",
              "0  203097   420000  ...     1.35490               -0.4455\n",
              "1  579905   500000  ...    -0.10760                0.8637\n",
              "2  810601   325000  ...    -0.86820                0.6721\n",
              "3  267447  1100000  ...    -0.40780               -0.9194\n",
              "4  343523   200000  ...     0.09163               -0.1295\n",
              "\n",
              "[5 rows x 38 columns]"
            ]
          },
          "metadata": {
            "tags": []
          },
          "execution_count": 52
        }
      ]
    },
    {
      "cell_type": "code",
      "metadata": {
        "id": "wPJmSrhBFDka",
        "colab_type": "code",
        "outputId": "a7b4b4fe-d8db-42c7-c62d-4c2386ef2fe3",
        "colab": {
          "base_uri": "https://localhost:8080/",
          "height": 217
        }
      },
      "source": [
        "non_numeric_cols = []\n",
        "for column in employment_stats.columns:\n",
        "  if (employment_stats [column].dtype == 'object'):\n",
        "    non_numeric_cols.append (column)\n",
        "    print(\"{:15}{:15}\".format(column,(employment_stats.groupby(column).size()).shape[0]))"
      ],
      "execution_count": 0,
      "outputs": [
        {
          "output_type": "stream",
          "text": [
            "DOJ                         81\n",
            "DOL                         67\n",
            "Designation                419\n",
            "JobCity                    339\n",
            "Gender                       2\n",
            "DOB                       1872\n",
            "10board                    275\n",
            "12board                    340\n",
            "Degree                       4\n",
            "Specialization              46\n",
            "CollegeState                26\n"
          ],
          "name": "stdout"
        }
      ]
    },
    {
      "cell_type": "code",
      "metadata": {
        "id": "GRkHSyVsD3wt",
        "colab_type": "code",
        "colab": {}
      },
      "source": [
        "employment_stats = employment_stats.drop (\"DOB\", axis = 1)\n",
        "employment_stats = employment_stats.drop (\"DOL\", axis = 1)\n",
        "employment_stats = employment_stats.drop(\"ID\", axis = 1)\n",
        "employment_stats = employment_stats.drop(\"Designation\", axis = 1)\n",
        "employment_stats = employment_stats.drop(\"DOJ\", axis = 1)\n",
        "employment_stats = employment_stats.drop(\"CollegeID\", axis = 1)\n",
        "employment_stats = employment_stats.drop(\"CollegeCityID\", axis = 1)\n",
        "employment_stats = employment_stats.drop(\"CollegeCityTier\", axis = 1)\n",
        "non_numeric_cols.remove(\"DOB\")\n",
        "non_numeric_cols.remove(\"DOL\")\n",
        "non_numeric_cols.remove(\"DOJ\")\n",
        "non_numeric_cols.remove(\"Designation\")\n"
      ],
      "execution_count": 0,
      "outputs": []
    },
    {
      "cell_type": "code",
      "metadata": {
        "id": "t0bR8hZ2FYDQ",
        "colab_type": "code",
        "colab": {}
      },
      "source": [
        "description_table = employment_stats.describe()"
      ],
      "execution_count": 0,
      "outputs": []
    },
    {
      "cell_type": "code",
      "metadata": {
        "id": "1gpSgjmKjl89",
        "colab_type": "code",
        "colab": {}
      },
      "source": [
        "employment_stats[\"TechnicalScore\"] = 0\n",
        "employment_stats[\"TechnicalStrengthCount\"] = 0\n",
        "employment_stats[\"MajorTechnicalSubject\"] = \"\""
      ],
      "execution_count": 0,
      "outputs": []
    },
    {
      "cell_type": "code",
      "metadata": {
        "id": "mZVTSSuEhI4b",
        "colab_type": "code",
        "colab": {}
      },
      "source": [
        "technical_subjects = [\"ComputerProgramming\", \"ElectronicsAndSemicon\", \"ComputerScience\", \"MechanicalEngg\", \"ElectricalEngg\", \"TelecomEngg\", \"CivilEngg\"]\n",
        "for index, row in employment_stats.iterrows():\n",
        "  technical_score = [row[\"ComputerProgramming\"], row[\"ElectronicsAndSemicon\"], row[\"ComputerScience\"], row[\"MechanicalEngg\"], row[\"ElectricalEngg\"], row[\"TelecomEngg\"], row[\"CivilEngg\"]]\n",
        "  employment_stats.at[index, \"TechnicalScore\"] = max(technical_score)\n",
        "  employment_stats.at[index, \"TechnicalStrengthCount\"] = sum(x > 0 for x in technical_score)\n",
        "  employment_stats.at[index, \"MajorTechnicalSubject\"] = technical_subjects[technical_score.index(max(technical_score))]\n",
        "  "
      ],
      "execution_count": 0,
      "outputs": []
    },
    {
      "cell_type": "code",
      "metadata": {
        "id": "XYNNCruXiXTL",
        "colab_type": "code",
        "colab": {}
      },
      "source": [
        "employment_stats = employment_stats.drop(\"Specialization\", axis = 1)\n",
        "employment_stats = employment_stats.drop(\"ComputerScience\", axis = 1)\n",
        "employment_stats = employment_stats.drop(\"ComputerProgramming\", axis = 1)\n",
        "employment_stats = employment_stats.drop(\"ElectronicsAndSemicon\", axis = 1)\n",
        "employment_stats = employment_stats.drop(\"MechanicalEngg\", axis = 1)\n",
        "employment_stats = employment_stats.drop(\"ElectricalEngg\", axis = 1)\n",
        "employment_stats = employment_stats.drop(\"TelecomEngg\", axis = 1)\n",
        "employment_stats = employment_stats.drop(\"CivilEngg\", axis = 1)\n",
        "non_numeric_cols.remove(\"Specialization\")"
      ],
      "execution_count": 0,
      "outputs": []
    },
    {
      "cell_type": "code",
      "metadata": {
        "id": "pbF6E6JvwiNL",
        "colab_type": "code",
        "colab": {}
      },
      "source": [
        "IT_CITY = 1\n",
        "NON_IT_CITY = 2\n",
        "it_hubs = [\"bangalore\", \"gurgaon\", \"noida\", \"pune\", \"mumbai\", \"delhi\", \"new delhi\", \"navi mumbai\", \"hyderabad\", \"ncr\", \"chennai\"]\n",
        "for index,row in employment_stats.iterrows():\n",
        "  if row[\"JobCity\"].lower() in it_hubs:\n",
        "    employment_stats.at[index, \"JobCity\"] = IT_CITY\n",
        "  else:\n",
        "    employment_stats.at[index, \"JobCity\"] = NON_IT_CITY\n",
        "non_numeric_cols.remove(\"JobCity\")"
      ],
      "execution_count": 0,
      "outputs": []
    },
    {
      "cell_type": "code",
      "metadata": {
        "id": "CQb4vhkskxXh",
        "colab_type": "code",
        "outputId": "e4b43c7f-8aa1-4fd6-d97e-78610d514d12",
        "colab": {
          "base_uri": "https://localhost:8080/",
          "height": 145
        }
      },
      "source": [
        "employment_stats.columns"
      ],
      "execution_count": 0,
      "outputs": [
        {
          "output_type": "execute_result",
          "data": {
            "text/plain": [
              "Index(['Salary', 'JobCity', 'Gender', '10percentage', '10board',\n",
              "       '12graduation', '12percentage', '12board', 'CollegeTier', 'Degree',\n",
              "       'collegeGPA', 'CollegeState', 'GraduationYear', 'English', 'Logical',\n",
              "       'Quant', 'Domain', 'conscientiousness', 'agreeableness', 'extraversion',\n",
              "       'nueroticism', 'openess_to_experience', 'TechnicalScore',\n",
              "       'TechnicalStrengthCount', 'MajorTechnicalSubject'],\n",
              "      dtype='object')"
            ]
          },
          "metadata": {
            "tags": []
          },
          "execution_count": 60
        }
      ]
    },
    {
      "cell_type": "code",
      "metadata": {
        "id": "j3de0IdMMBDE",
        "colab_type": "code",
        "colab": {}
      },
      "source": [
        "CBSE = 1\n",
        "ICSE = 2\n",
        "STATE_BOARD = 3\n",
        "UNAVAILABLE = 4\n",
        "for index, row in employment_stats.iterrows():\n",
        "  if row[\"10board\"].lower() == \"cbse\" or row[\"10board\"].lower() == \"central board of secondary education\":\n",
        "    employment_stats.at[index, \"10board\"] = CBSE\n",
        "  elif row[\"10board\"].lower() == \"icse\" or row[\"10board\"].lower() == \"isc\":\n",
        "    employment_stats.at[index, \"10board\"] = ICSE\n",
        "  elif row[\"10board\"] == '':\n",
        "    employment_stats.at[index, \"10board\"] = UNAVAILABLE\n",
        "  else:\n",
        "    employment_stats.at[index, \"10board\"] = STATE_BOARD\n",
        "  if row[\"12board\"].lower() == \"cbse\" or row[\"12board\"].lower() == \"central board of secondary education\":\n",
        "    employment_stats.at[index, \"12board\"] = CBSE\n",
        "  elif row[\"12board\"].lower() == \"icse\" or row[\"12board\"].lower() == \"isc\":\n",
        "    employment_stats.at[index, \"12board\"] = ICSE\n",
        "  elif row[\"12board\"] == '':\n",
        "    employment_stats.at[index, \"12board\"] = UNAVAILABLE\n",
        "  else:\n",
        "    employment_stats.at[index, \"12board\"] = STATE_BOARD"
      ],
      "execution_count": 0,
      "outputs": []
    },
    {
      "cell_type": "code",
      "metadata": {
        "id": "JOVTcj2dOK9Y",
        "colab_type": "code",
        "colab": {}
      },
      "source": [
        "non_numeric_cols.remove(\"10board\")\n",
        "non_numeric_cols.remove(\"12board\")"
      ],
      "execution_count": 0,
      "outputs": []
    },
    {
      "cell_type": "code",
      "metadata": {
        "id": "GKz1r9RJOPC_",
        "colab_type": "code",
        "outputId": "62a6ce33-933b-4fbd-e704-30522b52393a",
        "colab": {
          "base_uri": "https://localhost:8080/",
          "height": 126
        }
      },
      "source": [
        "employment_stats.groupby(\"Degree\").size()"
      ],
      "execution_count": 0,
      "outputs": [
        {
          "output_type": "execute_result",
          "data": {
            "text/plain": [
              "Degree\n",
              "B.Tech/B.E.      3700\n",
              "M.Sc. (Tech.)       2\n",
              "M.Tech./M.E.       53\n",
              "MCA               243\n",
              "dtype: int64"
            ]
          },
          "metadata": {
            "tags": []
          },
          "execution_count": 63
        }
      ]
    },
    {
      "cell_type": "code",
      "metadata": {
        "id": "GRpEFkKEmOpe",
        "colab_type": "code",
        "outputId": "6c73e0cf-fa0d-4450-ecae-d99158b6ecf4",
        "colab": {
          "base_uri": "https://localhost:8080/",
          "height": 90
        }
      },
      "source": [
        "employment_stats.groupby(\"Gender\").size()"
      ],
      "execution_count": 0,
      "outputs": [
        {
          "output_type": "execute_result",
          "data": {
            "text/plain": [
              "Gender\n",
              "f     957\n",
              "m    3041\n",
              "dtype: int64"
            ]
          },
          "metadata": {
            "tags": []
          },
          "execution_count": 64
        }
      ]
    },
    {
      "cell_type": "code",
      "metadata": {
        "id": "awghIW15logo",
        "colab_type": "code",
        "colab": {}
      },
      "source": [
        "import matplotlib.pyplot as plt"
      ],
      "execution_count": 0,
      "outputs": []
    },
    {
      "cell_type": "code",
      "metadata": {
        "id": "pXXSXffHRt_i",
        "colab_type": "code",
        "outputId": "120e736d-eb56-42f8-eb50-81d1a17be10d",
        "colab": {
          "base_uri": "https://localhost:8080/",
          "height": 145
        }
      },
      "source": [
        "for col_name in employment_stats.columns:\n",
        "    if(employment_stats[col_name].dtype == 'object'):\n",
        "        print(col_name)\n",
        "        employment_stats[col_name]= employment_stats[col_name].astype('category')\n",
        "        employment_stats[col_name] = employment_stats[col_name].cat.codes"
      ],
      "execution_count": 0,
      "outputs": [
        {
          "output_type": "stream",
          "text": [
            "JobCity\n",
            "Gender\n",
            "10board\n",
            "12board\n",
            "Degree\n",
            "CollegeState\n",
            "MajorTechnicalSubject\n"
          ],
          "name": "stdout"
        }
      ]
    },
    {
      "cell_type": "code",
      "metadata": {
        "id": "2Eyc7qlaRzJa",
        "colab_type": "code",
        "outputId": "b19ff72d-f65f-47e8-f577-efd4bf555ab1",
        "colab": {
          "base_uri": "https://localhost:8080/",
          "height": 55
        }
      },
      "source": [
        "\n",
        "minOutliers = []\n",
        "maxOutliers = []\n",
        "outlierFeatures = []\n",
        "descriptionTable = employment_stats.describe()\n",
        "for i in employment_stats.columns:\n",
        "  if(descriptionTable[i][6] != descriptionTable[i][4]):\n",
        "    outlierFeatures.append(i)\n",
        "    interQuartile = ((descriptionTable[i][6] - descriptionTable[i][4]) * 1.5)\n",
        "    minOutliers.append((descriptionTable[i][4]) - interQuartile)\n",
        "    maxOutliers.append((descriptionTable[i][6]) + interQuartile)\n",
        "print(outlierFeatures)"
      ],
      "execution_count": 0,
      "outputs": [
        {
          "output_type": "stream",
          "text": [
            "['Salary', 'JobCity', '10percentage', '10board', '12graduation', '12percentage', '12board', 'collegeGPA', 'CollegeState', 'GraduationYear', 'English', 'Logical', 'Quant', 'Domain', 'conscientiousness', 'agreeableness', 'extraversion', 'nueroticism', 'openess_to_experience', 'TechnicalScore', 'TechnicalStrengthCount', 'MajorTechnicalSubject']\n"
          ],
          "name": "stdout"
        }
      ]
    },
    {
      "cell_type": "code",
      "metadata": {
        "id": "lFFPZVkbrjPz",
        "colab_type": "code",
        "outputId": "7b255b73-86b7-49f6-df1e-690b4b144c4b",
        "colab": {
          "base_uri": "https://localhost:8080/",
          "height": 302
        }
      },
      "source": [
        "plt.hist(employment_stats['Salary'], bins = 30, edgecolor = \"black\")\n",
        "plt.xticks([0, 500000, 1000000, 1500000, 2000000, 2500000, 3000000, 3500000, 4000000, 4500000], [0, 5, 10, 15, 20, 25, 30, 35, 40, 45])\n",
        "plt.xlabel(\"Salary (value in lakhs)\")\n",
        "plt.ylabel(\"Number of candidates\")"
      ],
      "execution_count": 0,
      "outputs": [
        {
          "output_type": "execute_result",
          "data": {
            "text/plain": [
              "Text(0, 0.5, 'Number of candidates')"
            ]
          },
          "metadata": {
            "tags": []
          },
          "execution_count": 68
        },
        {
          "output_type": "display_data",
          "data": {
            "image/png": "[encoded data removed]",
            "text/plain": [
              "<Figure size 432x288 with 1 Axes>"
            ]
          },
          "metadata": {
            "tags": []
          }
        }
      ]
    },
    {
      "cell_type": "code",
      "metadata": {
        "id": "aZ8X3528Vfri",
        "colab_type": "code",
        "outputId": "e50167ed-23fa-483f-e0ad-d6e6265d8a79",
        "colab": {
          "base_uri": "https://localhost:8080/",
          "height": 417
        }
      },
      "source": [
        "for i in range(len(outlierFeatures)):\n",
        "    employment_stats = employment_stats [employment_stats [outlierFeatures[i]] >= minOutliers[i]]\n",
        "    employment_stats = employment_stats [employment_stats [outlierFeatures[i]] <= maxOutliers[i]]\n",
        "    print(outlierFeatures[i], minOutliers[i], maxOutliers[i])"
      ],
      "execution_count": 0,
      "outputs": [
        {
          "output_type": "stream",
          "text": [
            "Salary -105000.0 655000.0\n",
            "JobCity -1.5 2.5\n",
            "10percentage 50.69499999999998 106.65500000000002\n",
            "10board -3.0 5.0\n",
            "12graduation 2004.0 2012.0\n",
            "12percentage 41.10000000000001 107.49999999999999\n",
            "12board -3.0 5.0\n",
            "collegeGPA 51.527499999999996 91.20750000000001\n",
            "CollegeState -7.0 41.0\n",
            "GraduationYear 2009.0 2017.0\n",
            "English 207.5 787.5\n",
            "Logical 265.0 745.0\n",
            "Quant 182.5 842.5\n",
            "Domain -0.4075852329999999 1.5921484549999998\n",
            "conscientiousness -2.8378625000000004 2.8270375000000003\n",
            "agreeableness -1.93695 2.46265\n",
            "extraversion -2.5200000000000005 2.5872\n",
            "nueroticism -2.9598 2.6178\n",
            "openess_to_experience -2.4266 2.2598000000000003\n",
            "TechnicalScore 180.0 700.0\n",
            "TechnicalStrengthCount -0.5 3.5\n",
            "MajorTechnicalSubject -2.0 6.0\n"
          ],
          "name": "stdout"
        }
      ]
    },
    {
      "cell_type": "code",
      "metadata": {
        "id": "HmYjL_l1WGaE",
        "colab_type": "code",
        "outputId": "5943a0c4-34e9-4a36-82d3-213c1ec72a65",
        "colab": {
          "base_uri": "https://localhost:8080/",
          "height": 35
        }
      },
      "source": [
        "employment_stats.shape"
      ],
      "execution_count": 0,
      "outputs": [
        {
          "output_type": "execute_result",
          "data": {
            "text/plain": [
              "(3276, 25)"
            ]
          },
          "metadata": {
            "tags": []
          },
          "execution_count": 70
        }
      ]
    },
    {
      "cell_type": "code",
      "metadata": {
        "id": "d2__f4Q0dyPe",
        "colab_type": "code",
        "outputId": "057ceecc-c6ad-42ab-aebd-ca592cd3f5fd",
        "colab": {
          "base_uri": "https://localhost:8080/",
          "height": 375
        }
      },
      "source": [
        "BELOW_AVG_SALARY = 0\n",
        "ABOVE_AVG_SALARY = 1\n",
        "AVG_SAL = 300000\n",
        "salaries = [] \n",
        "female_salary = []\n",
        "male_salary = []\n",
        "for index,row in employment_stats.iterrows():\n",
        "  salaries.append(row['Salary'])\n",
        "  if row['Gender'] == 0:\n",
        "    female_salary.append(row['Salary'])\n",
        "  else:\n",
        "    male_salary.append(row['Salary'])\n",
        "  if row['Salary'] <= AVG_SAL:\n",
        "    employment_stats.at[index, \"Salary\"] = BELOW_AVG_SALARY\n",
        "  else:\n",
        "    employment_stats.at[index, \"Salary\"] = ABOVE_AVG_SALARY\n",
        "print(employment_stats.groupby(\"Salary\").size())\n",
        "plt.hist(salaries, bins = 12, edgecolor = \"black\", linewidth = 1)\n",
        "plt.xlabel(\"Salaries (value in lakhs)\")\n",
        "locs, labels = plt.xticks()\n",
        "plt.xticks(locs, [int(i//100000) for i in locs])\n",
        "plt.ylabel(\"Number of Candidates\")"
      ],
      "execution_count": 0,
      "outputs": [
        {
          "output_type": "stream",
          "text": [
            "Salary\n",
            "0    1795\n",
            "1    1481\n",
            "dtype: int64\n"
          ],
          "name": "stdout"
        },
        {
          "output_type": "execute_result",
          "data": {
            "text/plain": [
              "Text(0, 0.5, 'Number of Candidates')"
            ]
          },
          "metadata": {
            "tags": []
          },
          "execution_count": 71
        },
        {
          "output_type": "display_data",
          "data": {
            "image/png": "[encoded data removed]",
            "text/plain": [
              "<Figure size 432x288 with 1 Axes>"
            ]
          },
          "metadata": {
            "tags": []
          }
        }
      ]
    },
    {
      "cell_type": "code",
      "metadata": {
        "id": "2XJXUFA-WwIf",
        "colab_type": "code",
        "outputId": "7e660dfd-1dda-410d-aa09-133a8a6014fc",
        "colab": {
          "base_uri": "https://localhost:8080/",
          "height": 145
        }
      },
      "source": [
        "employment_stats.columns"
      ],
      "execution_count": 0,
      "outputs": [
        {
          "output_type": "execute_result",
          "data": {
            "text/plain": [
              "Index(['Salary', 'JobCity', 'Gender', '10percentage', '10board',\n",
              "       '12graduation', '12percentage', '12board', 'CollegeTier', 'Degree',\n",
              "       'collegeGPA', 'CollegeState', 'GraduationYear', 'English', 'Logical',\n",
              "       'Quant', 'Domain', 'conscientiousness', 'agreeableness', 'extraversion',\n",
              "       'nueroticism', 'openess_to_experience', 'TechnicalScore',\n",
              "       'TechnicalStrengthCount', 'MajorTechnicalSubject'],\n",
              "      dtype='object')"
            ]
          },
          "metadata": {
            "tags": []
          },
          "execution_count": 72
        }
      ]
    },
    {
      "cell_type": "code",
      "metadata": {
        "id": "7O0UlLVXXjhJ",
        "colab_type": "code",
        "colab": {}
      },
      "source": [
        "employment_stats = employment_stats[employment_stats[\"Degree\"] != \"M.Sc. (Tech.)\"]    "
      ],
      "execution_count": 0,
      "outputs": []
    },
    {
      "cell_type": "code",
      "metadata": {
        "id": "QjC1suyTiWej",
        "colab_type": "code",
        "outputId": "6b9fa3ff-dd1a-4147-c542-507dcc769d6e",
        "colab": {
          "base_uri": "https://localhost:8080/",
          "height": 302
        }
      },
      "source": [
        "plt.hist([female_salary, male_salary], histtype='bar', stacked=True, edgecolor = \"black\")\n",
        "plt.legend(\"FM\")\n",
        "plt.xlabel(\"Salaries (value in lakhs)\")\n",
        "locs, labels = plt.xticks()\n",
        "plt.xticks(locs, [int(i//100000) for i in locs])\n",
        "plt.ylabel(\"Number of Candidates\")"
      ],
      "execution_count": 0,
      "outputs": [
        {
          "output_type": "execute_result",
          "data": {
            "text/plain": [
              "Text(0, 0.5, 'Number of Candidates')"
            ]
          },
          "metadata": {
            "tags": []
          },
          "execution_count": 74
        },
        {
          "output_type": "display_data",
          "data": {
            "image/png": "[encoded data removed]",
            "text/plain": [
              "<Figure size 432x288 with 1 Axes>"
            ]
          },
          "metadata": {
            "tags": []
          }
        }
      ]
    },
    {
      "cell_type": "code",
      "metadata": {
        "id": "1z7UoTmcLx7T",
        "colab_type": "code",
        "colab": {}
      },
      "source": [
        ""
      ],
      "execution_count": 0,
      "outputs": []
    },
    {
      "cell_type": "code",
      "metadata": {
        "id": "JPPdDvWUoZVv",
        "colab_type": "code",
        "colab": {}
      },
      "source": [
        "from sklearn.neighbors import KNeighborsClassifier\n",
        "from sklearn.svm import SVC\n",
        "from sklearn.linear_model import LogisticRegression\n",
        "from sklearn.tree import DecisionTreeClassifier\n",
        "from sklearn.naive_bayes import GaussianNB\n",
        "from sklearn.ensemble import RandomForestClassifier\n",
        "from sklearn.ensemble import GradientBoostingClassifier\n",
        "from sklearn.metrics import confusion_matrix\n",
        "modelList = []\n",
        "modelList.append(('KNN', KNeighborsClassifier()))\n",
        "modelList.append(('SVC', SVC()))\n",
        "modelList.append(('LR', LogisticRegression()))\n",
        "modelList.append(('DT', DecisionTreeClassifier()))\n",
        "modelList.append(('GNB', GaussianNB()))\n",
        "modelList.append(('RFC', RandomForestClassifier()))\n",
        "modelList.append(('GB', GradientBoostingClassifier()))"
      ],
      "execution_count": 0,
      "outputs": []
    },
    {
      "cell_type": "code",
      "metadata": {
        "id": "dBN2cUXHXDfB",
        "colab_type": "code",
        "colab": {}
      },
      "source": [
        "import numpy as np\n",
        "from sklearn.model_selection import train_test_split\n",
        "input_feature = ['JobCity', 'Gender', '10percentage', '10board', '12graduation',\n",
        "       '12percentage', '12board', 'CollegeTier', 'Degree',\n",
        "       'collegeGPA', 'CollegeState',\n",
        "       'GraduationYear', 'English', 'Logical', 'Quant', 'Domain',\n",
        "       'conscientiousness', 'agreeableness', 'extraversion', 'nueroticism',\n",
        "       'openess_to_experience', 'TechnicalScore', 'TechnicalStrengthCount',  \n",
        "       'MajorTechnicalSubject']\n",
        "X = employment_stats[input_feature]\n",
        "Y = employment_stats.Salary\n",
        "X, X_VAL, Y, Y_VAL = train_test_split(X, Y, stratify = employment_stats.Salary, train_size = 0.9, random_state = 0)\n",
        "X = np.array(X)\n",
        "Y = np.array(Y)"
      ],
      "execution_count": 0,
      "outputs": []
    },
    {
      "cell_type": "code",
      "metadata": {
        "id": "kwKyd7T6XXnI",
        "colab_type": "code",
        "colab": {}
      },
      "source": [
        "from sklearn.model_selection import cross_val_score\n",
        "from sklearn.metrics import accuracy_score\n",
        "from sklearn.model_selection import StratifiedKFold\n",
        "import warnings"
      ],
      "execution_count": 0,
      "outputs": []
    },
    {
      "cell_type": "code",
      "metadata": {
        "id": "P5InTT_LXbSc",
        "colab_type": "code",
        "colab": {}
      },
      "source": [
        "k_folds = StratifiedKFold(n_splits = 9)"
      ],
      "execution_count": 0,
      "outputs": []
    },
    {
      "cell_type": "code",
      "metadata": {
        "id": "HOOwSVYrZUUj",
        "colab_type": "code",
        "outputId": "f33c63a6-61e0-480f-b468-17b06f0bd80a",
        "colab": {
          "base_uri": "https://localhost:8080/",
          "height": 417
        }
      },
      "source": [
        "warnings.simplefilter('ignore')\n",
        "names = []\n",
        "score = []\n",
        "score_on_validation = []\n",
        "for name, model in modelList:\n",
        "  names.append(name)\n",
        "  accuracy = []\n",
        "  for train_index, test_index in k_folds.split(X, Y):\n",
        "    X_train, X_test = X[train_index], X[test_index]\n",
        "    Y_train, Y_test =  Y[train_index], Y[test_index]\n",
        "    model.fit(X_train, Y_train)\n",
        "    accuracy.append(model.score(X_test, Y_test))\n",
        "  score.append(sum(accuracy) / len(accuracy))\n",
        "  score_on_validation.append(model.score(X_VAL, Y_VAL))\n",
        "table_testdata = pd.DataFrame({'Name ': names, 'Score': score})\n",
        "table_validation = pd.DataFrame({'Name ': names, 'Score': score_on_validation})\n",
        "print(\"\\n Accuracy for test data \\n\")\n",
        "print(table_testdata)\n",
        "print(\"\\n Accuracy on validation data \\n\")\n",
        "print(table_validation)"
      ],
      "execution_count": 0,
      "outputs": [
        {
          "output_type": "stream",
          "text": [
            "\n",
            " Accuracy for test data \n",
            "\n",
            "  Name      Score\n",
            "0   KNN  0.615322\n",
            "1   SVC  0.547829\n",
            "2    LR  0.698769\n",
            "3    DT  0.602097\n",
            "4   GNB  0.694363\n",
            "5   RFC  0.675041\n",
            "6    GB  0.709976\n",
            "\n",
            " Accuracy on validation data \n",
            "\n",
            "  Name      Score\n",
            "0   KNN  0.640244\n",
            "1   SVC  0.548780\n",
            "2    LR  0.695122\n",
            "3    DT  0.615854\n",
            "4   GNB  0.689024\n",
            "5   RFC  0.698171\n",
            "6    GB  0.725610\n"
          ],
          "name": "stdout"
        }
      ]
    },
    {
      "cell_type": "code",
      "metadata": {
        "id": "H7pDuSFIZlen",
        "colab_type": "code",
        "outputId": "f6b8801a-cae0-487f-f050-80bf9ea82722",
        "colab": {
          "base_uri": "https://localhost:8080/",
          "height": 302
        }
      },
      "source": [
        "plt.xlabel(\"Algorithm\")\n",
        "plt.ylabel(\"Accuracy\")\n",
        "plt.plot(names, score_on_validation)"
      ],
      "execution_count": 0,
      "outputs": [
        {
          "output_type": "execute_result",
          "data": {
            "text/plain": [
              "[<matplotlib.lines.Line2D at 0x7f961bb42240>]"
            ]
          },
          "metadata": {
            "tags": []
          },
          "execution_count": 80
        },
        {
          "output_type": "display_data",
          "data": {
            "image/png": "[encoded data removed]",
            "text/plain": [
              "<Figure size 432x288 with 1 Axes>"
            ]
          },
          "metadata": {
            "tags": []
          }
        }
      ]
    },
    {
      "cell_type": "code",
      "metadata": {
        "id": "a6LVevp38PEk",
        "colab_type": "code",
        "colab": {}
      },
      "source": [
        ""
      ],
      "execution_count": 0,
      "outputs": []
    }
  ]
}